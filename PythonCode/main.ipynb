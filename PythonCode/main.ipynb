{
 "cells": [
  {
   "cell_type": "code",
   "execution_count": 8,
   "metadata": {},
   "outputs": [],
   "source": [
    "import cv2\n",
    "import numpy as np"
   ]
  },
  {
   "cell_type": "code",
   "execution_count": 9,
   "metadata": {},
   "outputs": [],
   "source": [
    "camera = cv2.VideoCapture(0)"
   ]
  },
  {
   "attachments": {},
   "cell_type": "markdown",
   "metadata": {},
   "source": [
    "# Functions"
   ]
  },
  {
   "cell_type": "code",
   "execution_count": 10,
   "metadata": {},
   "outputs": [],
   "source": [
    "def getColors(frame, threshb=127, threshg=127, threshr=127, maxVal=255):\n",
    "    b,g,r = cv2.split(frame)\n",
    "    \n",
    "    b = cv2.threshold(b, threshb, maxVal, cv2.THRESH_BINARY)[1]\n",
    "    g = cv2.threshold(g, threshg, maxVal, cv2.THRESH_BINARY)[1]\n",
    "    r = cv2.threshold(r, threshr, maxVal, cv2.THRESH_BINARY)[1]\n",
    "    \n",
    "    b[np.where(r == 255) and np.where(g == 0)] = 0\n",
    "    \n",
    "    return cv2.merge((b,g,r))\n",
    "\n",
    "def getCenter(frame):\n",
    "    y, x, _ = frame.shape\n",
    "    \n",
    "    return int(y/2), int(x/2)\n",
    "\n",
    "def getPortion(frame, portion):\n",
    "    y, x, _ = frame.shape\n",
    "    \n",
    "    return int(y/portion), int(x/portion)\n",
    "\n",
    "def bincount_app(a):\n",
    "    a2D = a.reshape(-1,a.shape[-1])\n",
    "    col_range = (256, 256, 256) # generically : a2D.max(0)+1\n",
    "    a1D = np.ravel_multi_index(a2D.T, col_range)\n",
    "    return np.unravel_index(np.bincount(a1D).argmax(), col_range)"
   ]
  },
  {
   "cell_type": "code",
   "execution_count": 11,
   "metadata": {},
   "outputs": [],
   "source": [
    "while True:\n",
    "    ret, frame = camera.read()\n",
    "    cy, cx = getCenter(frame)\n",
    "    py, px = getPortion(frame, 10)\n",
    "    \n",
    "    y1, x1, y2, x2 = cy - int(py/2), cx - int(px/2), cy + int(py/2), cx + int(px/2)\n",
    "    \n",
    "    portion = frame[y1:y2, x1:x2]\n",
    "    \n",
    "    \n",
    "    \n",
    "    colorFrame = getColors(portion)\n",
    "    cyp, cxp = getCenter(portion)\n",
    "    \n",
    "    cv2.rectangle(frame, (cx, cy), (cx, cy), (255,0,0), 4)\n",
    "    \n",
    "    cv2.imshow(\"color Frame\", colorFrame)\n",
    "    cv2.imshow(\"Frame\", frame)\n",
    "    key = cv2.waitKey(1)\n",
    "    if key == ord(\"q\"):\n",
    "        cv2.destroyAllWindows()\n",
    "        break"
   ]
  }
 ],
 "metadata": {
  "kernelspec": {
   "display_name": "venv",
   "language": "python",
   "name": "python3"
  },
  "language_info": {
   "codemirror_mode": {
    "name": "ipython",
    "version": 3
   },
   "file_extension": ".py",
   "mimetype": "text/x-python",
   "name": "python",
   "nbconvert_exporter": "python",
   "pygments_lexer": "ipython3",
   "version": "3.11.2"
  },
  "orig_nbformat": 4
 },
 "nbformat": 4,
 "nbformat_minor": 2
}
